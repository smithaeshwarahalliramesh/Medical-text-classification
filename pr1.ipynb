{
 "cells": [
  {
   "cell_type": "code",
   "execution_count": 31,
   "metadata": {},
   "outputs": [
    {
     "name": "stdout",
     "output_type": "stream",
     "text": [
      "[3163, 1494, 1925, 3051, 4805]\n",
      "[0.9129307619348719, 1.9327978580990628, 1.500051948051948, 0.946443788921665, 0.6009573361082206]\n"
     ]
    }
   ],
   "source": [
    "import numpy as np\n",
    "from collections import Counter\n",
    "from scipy.sparse import csr_matrix\n",
    "from sklearn.preprocessing import normalize\n",
    "from sklearn.metrics import f1_score\n",
    "\n",
    "with open(\"train.dat\", \"r\") as fh:\n",
    "    data = fh.readlines()\n",
    "\n",
    "records = [record.split() for record in data]\n",
    "\n",
    "def filterLen(docs, minlen):\n",
    "    return [ [t for t in d if len(t) >= minlen ] for d in docs ]\n",
    "\n",
    "trainingOutput = [int(record[0]) for record in records]\n",
    "trainingData = filterLen(records, 5)\n",
    "\n",
    "classCnt = [0, 0, 0, 0, 0]\n",
    "# imbalanced data check\n",
    "for i in trainingOutput:\n",
    "    if i == 1:\n",
    "        classCnt[0] += 1\n",
    "    elif i == 2:\n",
    "        classCnt[1] += 1\n",
    "    elif i == 3:\n",
    "        classCnt[2] += 1\n",
    "    elif i == 4:\n",
    "        classCnt[3] += 1\n",
    "    else:\n",
    "        classCnt[4] += 1\n",
    "print(classCnt)\n",
    "weightedAvg = [len(trainingOutput)/5/cnt for cnt in classCnt]\n",
    "print(weightedAvg)\n"
   ]
  },
  {
   "cell_type": "code",
   "execution_count": 32,
   "metadata": {},
   "outputs": [],
   "source": [
    "idx = {}\n",
    "nnz = 0\n",
    "def buildDictionary(record):\n",
    "    tid = 0\n",
    "    global nnz\n",
    "    for d in record:\n",
    "        nnz += len(set(d))\n",
    "        for w in d:\n",
    "            if w not in idx:\n",
    "                idx[w] = tid\n",
    "                tid += 1\n",
    "    \n",
    "def buildMatrix(record):\n",
    "    global idx\n",
    "    global nnz\n",
    "    nrows = len(record)\n",
    "    ncols = len(idx)\n",
    "    # set up memory\n",
    "    ind = np.zeros(nnz, dtype=np.int)\n",
    "    val = np.zeros(nnz, dtype=np.double)\n",
    "    ptr = np.zeros(nrows+1, dtype=np.int)\n",
    "    i = 0  # document ID / row counter\n",
    "    n = 0  # non-zero counter\n",
    "    # transfer values\n",
    "    for d in record:\n",
    "        cnt = Counter(d)\n",
    "        keys = list(k for k,_ in cnt.most_common())\n",
    "        l = 0\n",
    "        for j,k in enumerate(keys):\n",
    "            if k in idx.keys():\n",
    "                ind[j+n] = idx[k]\n",
    "                val[j+n] = cnt[k]\n",
    "                l += 1\n",
    "        ptr[i+1] = ptr[i] + l\n",
    "        n += l\n",
    "        i += 1\n",
    "            \n",
    "    mat = csr_matrix((val, ind, ptr), shape=(nrows, ncols), dtype=np.double)\n",
    "    mat.sort_indices()\n",
    "    \n",
    "    return mat"
   ]
  },
  {
   "cell_type": "code",
   "execution_count": 33,
   "metadata": {},
   "outputs": [],
   "source": [
    "buildDictionary(trainingData)\n",
    "trainingMat = buildMatrix(trainingData)\n",
    "trainingMat = normalize(trainingMat, copy=True)"
   ]
  },
  {
   "cell_type": "code",
   "execution_count": 34,
   "metadata": {},
   "outputs": [],
   "source": [
    "def knnPredict(testData, trainingData, trainingOutput, k, epsilon):\n",
    "    testOutput = []\n",
    "    output = np.dot(testData, trainingData.T)\n",
    "    rows = output.shape[0]\n",
    "    columns = output.shape[1]\n",
    "    for i in range(rows):\n",
    "        classWeight = [0.0, 0.0, 0.0, 0.0, 0.0]\n",
    "        temp = output[i].todense()\n",
    "        idx = temp.argsort(axis=1)\n",
    "        idxList = [idx.item(columns-1-j) for j in range(k)]\n",
    "        knn = [temp.item(x) for x in idxList if temp.item(x) >= epsilon]\n",
    "        if (len(knn) == 0):\n",
    "            knn = [temp.item(idxList[0])]\n",
    "        for entry in range(len(knn)):\n",
    "            classNum = int(trainingOutput[idxList[entry]])\n",
    "            weightage = knn[entry]\n",
    "            if classNum == 1:\n",
    "                classWeight[0] += weightage\n",
    "            elif classNum == 2:\n",
    "                classWeight[1] += weightage\n",
    "            elif classNum == 3:\n",
    "                classWeight[2] += weightage\n",
    "            elif classNum == 4:\n",
    "                classWeight[3] += weightage\n",
    "            elif classNum == 5:\n",
    "                classWeight[4] += weightage\n",
    "        classWeight = [classWeight[i]*weightedAvg[i] for i in range(len(classWeight))]\n",
    "        classWeight = sorted(range(len(classWeight)), key=classWeight.__getitem__)\n",
    "        testOutput.append(classWeight[-1]+1)\n",
    "        \n",
    "    return testOutput"
   ]
  },
  {
   "cell_type": "code",
   "execution_count": 35,
   "metadata": {},
   "outputs": [
    {
     "name": "stdout",
     "output_type": "stream",
     "text": [
      "Done..\n"
     ]
    },
    {
     "data": {
      "text/plain": [
       "\"\\nprint(f1_score(trainingOutput, testOutput, average='weighted'))\\nprecision, recall, fscore, support = score(trainingOutput, testOutput)\\n\\nprint('precision: {}'.format(precision))\\nprint('recall: {}'.format(recall))\\nprint('fscore: {}'.format(fscore))\\nprint('support: {}'.format(support))\\n\""
      ]
     },
     "execution_count": 35,
     "metadata": {},
     "output_type": "execute_result"
    }
   ],
   "source": [
    "from sklearn.metrics import precision_recall_fscore_support as score\n",
    "with open(\"test.dat\", \"r\") as fh:\n",
    "    data = fh.readlines()\n",
    "\n",
    "records = [record.split() for record in data]       \n",
    "testData = filterLen(records, 5)\n",
    "testMat = buildMatrix(testData)\n",
    "testMat = normalize(testMat, copy=True)\n",
    "k = 355\n",
    "epsilon = 0.2\n",
    "testOutput = knnPredict(testMat, trainingMat, trainingOutput, k, epsilon)\n",
    "with open(\"output.dat\", \"w\") as fh:\n",
    "    for i in range(len(testOutput)):\n",
    "        fh.write(str(testOutput[i]))\n",
    "        fh.write('\\n')\n",
    "print('Done..')\n",
    "\n",
    "'''\n",
    "print(f1_score(trainingOutput, testOutput, average='weighted'))\n",
    "precision, recall, fscore, support = score(trainingOutput, testOutput)\n",
    "\n",
    "print('precision: {}'.format(precision))\n",
    "print('recall: {}'.format(recall))\n",
    "print('fscore: {}'.format(fscore))\n",
    "print('support: {}'.format(support))\n",
    "'''"
   ]
  },
  {
   "cell_type": "code",
   "execution_count": null,
   "metadata": {},
   "outputs": [],
   "source": []
  },
  {
   "cell_type": "code",
   "execution_count": null,
   "metadata": {},
   "outputs": [],
   "source": []
  }
 ],
 "metadata": {
  "kernelspec": {
   "display_name": "Python 3",
   "language": "python",
   "name": "python3"
  },
  "language_info": {
   "codemirror_mode": {
    "name": "ipython",
    "version": 3
   },
   "file_extension": ".py",
   "mimetype": "text/x-python",
   "name": "python",
   "nbconvert_exporter": "python",
   "pygments_lexer": "ipython3",
   "version": "3.6.9"
  }
 },
 "nbformat": 4,
 "nbformat_minor": 2
}
